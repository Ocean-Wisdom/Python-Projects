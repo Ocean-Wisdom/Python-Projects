{
 "cells": [
  {
   "cell_type": "markdown",
   "id": "c23fa687-2375-4b7f-ad47-bbabb98a4e09",
   "metadata": {},
   "source": [
    "#### <font color = 'grey'> Imports </font>"
   ]
  },
  {
   "cell_type": "code",
   "execution_count": 135,
   "id": "baa3905f-1d9b-49a7-a203-4c56feb101fe",
   "metadata": {},
   "outputs": [],
   "source": [
    "import numpy as np\n",
    "import seaborn as sbn\n",
    "from sklearn.metrics import confusion_matrix\n",
    "import matplotlib.pyplot as plt\n",
    "from sklearn.preprocessing import LabelEncoder\n",
    "\n",
    "### ML\n",
    "\n",
    "from sklearn.impute import SimpleImputer\n",
    "from sklearn.preprocessing import OneHotEncoder, StandardScaler\n",
    "from sklearn.pipeline import Pipeline\n",
    "from sklearn.compose import ColumnTransformer\n",
    "from sklearn.model_selection import train_test_split\n",
    "\n",
    "from sklearn.metrics import accuracy_score\n",
    "from sklearn.ensemble import RandomForestClassifier\n",
    "from sklearn.tree import DecisionTreeClassifier\n",
    "from sklearn.svm import SVC\n",
    "\n",
    "from sklearn.model_selection import RandomizedSearchCV"
   ]
  },
  {
   "cell_type": "markdown",
   "id": "7338cfac-e04b-49fc-b47c-2e3ee7c56ab0",
   "metadata": {},
   "source": [
    "#### <font color = 'green'> Load Dataset </font>"
   ]
  },
  {
   "cell_type": "code",
   "execution_count": 3,
   "id": "1a809271-9287-49d9-aaa3-a06e874f3ba3",
   "metadata": {},
   "outputs": [
    {
     "data": {
      "text/html": [
       "<div>\n",
       "<style scoped>\n",
       "    .dataframe tbody tr th:only-of-type {\n",
       "        vertical-align: middle;\n",
       "    }\n",
       "\n",
       "    .dataframe tbody tr th {\n",
       "        vertical-align: top;\n",
       "    }\n",
       "\n",
       "    .dataframe thead th {\n",
       "        text-align: right;\n",
       "    }\n",
       "</style>\n",
       "<table border=\"1\" class=\"dataframe\">\n",
       "  <thead>\n",
       "    <tr style=\"text-align: right;\">\n",
       "      <th></th>\n",
       "      <th>total_bill</th>\n",
       "      <th>tip</th>\n",
       "      <th>sex</th>\n",
       "      <th>smoker</th>\n",
       "      <th>day</th>\n",
       "      <th>time</th>\n",
       "      <th>size</th>\n",
       "    </tr>\n",
       "  </thead>\n",
       "  <tbody>\n",
       "    <tr>\n",
       "      <th>0</th>\n",
       "      <td>16.99</td>\n",
       "      <td>1.01</td>\n",
       "      <td>Female</td>\n",
       "      <td>No</td>\n",
       "      <td>Sun</td>\n",
       "      <td>Dinner</td>\n",
       "      <td>2</td>\n",
       "    </tr>\n",
       "    <tr>\n",
       "      <th>1</th>\n",
       "      <td>10.34</td>\n",
       "      <td>1.66</td>\n",
       "      <td>Male</td>\n",
       "      <td>No</td>\n",
       "      <td>Sun</td>\n",
       "      <td>Dinner</td>\n",
       "      <td>3</td>\n",
       "    </tr>\n",
       "    <tr>\n",
       "      <th>2</th>\n",
       "      <td>21.01</td>\n",
       "      <td>3.50</td>\n",
       "      <td>Male</td>\n",
       "      <td>No</td>\n",
       "      <td>Sun</td>\n",
       "      <td>Dinner</td>\n",
       "      <td>3</td>\n",
       "    </tr>\n",
       "    <tr>\n",
       "      <th>3</th>\n",
       "      <td>23.68</td>\n",
       "      <td>3.31</td>\n",
       "      <td>Male</td>\n",
       "      <td>No</td>\n",
       "      <td>Sun</td>\n",
       "      <td>Dinner</td>\n",
       "      <td>2</td>\n",
       "    </tr>\n",
       "    <tr>\n",
       "      <th>4</th>\n",
       "      <td>24.59</td>\n",
       "      <td>3.61</td>\n",
       "      <td>Female</td>\n",
       "      <td>No</td>\n",
       "      <td>Sun</td>\n",
       "      <td>Dinner</td>\n",
       "      <td>4</td>\n",
       "    </tr>\n",
       "  </tbody>\n",
       "</table>\n",
       "</div>"
      ],
      "text/plain": [
       "   total_bill   tip     sex smoker  day    time  size\n",
       "0       16.99  1.01  Female     No  Sun  Dinner     2\n",
       "1       10.34  1.66    Male     No  Sun  Dinner     3\n",
       "2       21.01  3.50    Male     No  Sun  Dinner     3\n",
       "3       23.68  3.31    Male     No  Sun  Dinner     2\n",
       "4       24.59  3.61  Female     No  Sun  Dinner     4"
      ]
     },
     "execution_count": 3,
     "metadata": {},
     "output_type": "execute_result"
    }
   ],
   "source": [
    "df = sbn.load_dataset('tips')\n",
    "df.head()"
   ]
  },
  {
   "cell_type": "markdown",
   "id": "c97d3214-fcda-45f0-99e7-23b5f07e7da7",
   "metadata": {
    "tags": []
   },
   "source": [
    "### <font color = 'red'> Exploratory Data Analysis </font>"
   ]
  },
  {
   "cell_type": "code",
   "execution_count": 41,
   "id": "448e2ac5-3d58-468d-b17f-7cf97e837714",
   "metadata": {},
   "outputs": [
    {
     "name": "stdout",
     "output_type": "stream",
     "text": [
      "Shape of the dataframe is :  (244, 7) \n",
      " Therefore it has  244 rows and  7  columns \n",
      "\n",
      "<class 'pandas.core.frame.DataFrame'>\n",
      "RangeIndex: 244 entries, 0 to 243\n",
      "Data columns (total 7 columns):\n",
      " #   Column      Non-Null Count  Dtype   \n",
      "---  ------      --------------  -----   \n",
      " 0   total_bill  244 non-null    float64 \n",
      " 1   tip         244 non-null    float64 \n",
      " 2   sex         244 non-null    category\n",
      " 3   smoker      244 non-null    category\n",
      " 4   day         244 non-null    category\n",
      " 5   time        244 non-null    int64   \n",
      " 6   size        244 non-null    int64   \n",
      "dtypes: category(3), float64(2), int64(2)\n",
      "memory usage: 8.9 KB\n"
     ]
    }
   ],
   "source": [
    "print('Shape of the dataframe is : ', df.shape, '\\n','Therefore it has ', df.shape[0], 'rows and ', df.shape[1], ' columns', '\\n')\n",
    "df.info()\n"
   ]
  },
  {
   "cell_type": "code",
   "execution_count": 84,
   "id": "0f4d76dd-222a-49d4-b3e6-6f6408eeebbe",
   "metadata": {},
   "outputs": [
    {
     "data": {
      "image/png": "[encoded data removed]",
      "text/plain": [
       "<Figure size 640x480 with 1 Axes>"
      ]
     },
     "metadata": {},
     "output_type": "display_data"
    }
   ],
   "source": [
    "grouped = df.groupby(['sex', 'smoker']).size().reset_index(name = 'count')\n",
    "sbn.barplot(data = grouped, x = 'smoker', y = 'count', hue = 'sex')\n",
    "plt.title('Smokers and non-smokers sex wise');"
   ]
  },
  {
   "cell_type": "code",
   "execution_count": 42,
   "id": "a28e2a16-680a-4963-86f0-3b3f9d18de56",
   "metadata": {},
   "outputs": [
    {
     "data": {
      "image/png": "[encoded data removed]",
      "text/plain": [
       "<Figure size 640x480 with 1 Axes>"
      ]
     },
     "metadata": {},
     "output_type": "display_data"
    }
   ],
   "source": [
    "days = df['day'].value_counts()\n",
    "\n",
    "days_cat = days.index\n",
    "counts = days.values\n",
    "\n",
    "plt.bar(days_cat, counts)\n",
    "plt.title('Entries per day')\n",
    "plt.xlabel('Day of the week')\n",
    "plt.ylabel('Count')\n",
    "plt.show();"
   ]
  },
  {
   "cell_type": "code",
   "execution_count": 32,
   "id": "f8bcb134-51f0-460f-9da2-cf570a1e2fb7",
   "metadata": {},
   "outputs": [
    {
     "data": {
      "image/png": "[encoded data removed]",
      "text/plain": [
       "<Figure size 640x480 with 1 Axes>"
      ]
     },
     "metadata": {},
     "output_type": "display_data"
    }
   ],
   "source": [
    "def plot_bar(lista):\n",
    "    big = lista.value_counts()\n",
    "    categories = big.index\n",
    "    counts = big.values\n",
    "    \n",
    "    plt.bar(categories, counts)\n",
    "    plt.xlabel('Categories')\n",
    "    plt.ylabel('Counts')\n",
    "    \n",
    "    plt.show()\n",
    "plot_bar(df['time'])\n"
   ]
  },
  {
   "cell_type": "code",
   "execution_count": 33,
   "id": "d4a98b53-79e7-4841-bc7b-0204643e48c1",
   "metadata": {},
   "outputs": [],
   "source": [
    "encoder = LabelEncoder()\n",
    "df['time'] = encoder.fit_transform(df['time'])"
   ]
  },
  {
   "cell_type": "code",
   "execution_count": 35,
   "id": "94082179-0761-480f-a929-1d48ea2071fd",
   "metadata": {},
   "outputs": [
    {
     "data": {
      "text/plain": [
       "0    176\n",
       "1     68\n",
       "Name: time, dtype: int64"
      ]
     },
     "execution_count": 35,
     "metadata": {},
     "output_type": "execute_result"
    }
   ],
   "source": [
    "df['time'].value_counts()"
   ]
  },
  {
   "cell_type": "code",
   "execution_count": null,
   "id": "381ddf90-6168-4d28-adfd-2f20757ae3b2",
   "metadata": {},
   "outputs": [],
   "source": []
  },
  {
   "cell_type": "code",
   "execution_count": 49,
   "id": "d3a67a69-1bab-429d-abfd-755aeec42a5c",
   "metadata": {},
   "outputs": [
    {
     "data": {
      "text/plain": [
       "<AxesSubplot: xlabel='tip'>"
      ]
     },
     "execution_count": 49,
     "metadata": {},
     "output_type": "execute_result"
    },
    {
     "data": {
      "image/png": "[encoded data removed]",
      "text/plain": [
       "<Figure size 640x480 with 1 Axes>"
      ]
     },
     "metadata": {},
     "output_type": "display_data"
    }
   ],
   "source": [
    "### cheking outliers \n",
    "\n",
    "sbn.boxplot(x = df['tip'])"
   ]
  },
  {
   "cell_type": "code",
   "execution_count": 59,
   "id": "6da29de0-8fa0-4072-9668-4f6ef743a9b2",
   "metadata": {},
   "outputs": [],
   "source": [
    "median = df['tip'].median()\n",
    "df.loc[df['tip']>10, 'tip'] = median\n"
   ]
  },
  {
   "cell_type": "code",
   "execution_count": 60,
   "id": "6bf9a6de-fb52-4e1e-82e7-4bfe1de7482b",
   "metadata": {},
   "outputs": [],
   "source": [
    "Q1 = df['tip'].quantile(.25)\n",
    "Q3 = df['tip'].quantile(.75)\n",
    "IQR = Q3 - Q1 \n"
   ]
  },
  {
   "cell_type": "code",
   "execution_count": 63,
   "id": "6fa6ebb0-5414-469a-8f90-d38644bea90b",
   "metadata": {},
   "outputs": [
    {
     "data": {
      "text/plain": [
       "(235, 7)"
      ]
     },
     "execution_count": 63,
     "metadata": {},
     "output_type": "execute_result"
    }
   ],
   "source": [
    "df = df[(df['tip'] > Q1 - 1.5*IQR) & (df['tip'] < Q3 + 1.5 * IQR)]\n",
    "df.shape"
   ]
  },
  {
   "cell_type": "code",
   "execution_count": 70,
   "id": "ac39da0c-5d28-4e08-bb6d-d511176ff3b6",
   "metadata": {},
   "outputs": [],
   "source": [
    "X = df.drop(labels = ['time'], axis = 1)\n",
    "Y = df['time']"
   ]
  },
  {
   "cell_type": "code",
   "execution_count": 88,
   "id": "f6b39435-0302-440d-8ae1-9a30a6353bd8",
   "metadata": {},
   "outputs": [
    {
     "data": {
      "text/html": [
       "<div>\n",
       "<style scoped>\n",
       "    .dataframe tbody tr th:only-of-type {\n",
       "        vertical-align: middle;\n",
       "    }\n",
       "\n",
       "    .dataframe tbody tr th {\n",
       "        vertical-align: top;\n",
       "    }\n",
       "\n",
       "    .dataframe thead th {\n",
       "        text-align: right;\n",
       "    }\n",
       "</style>\n",
       "<table border=\"1\" class=\"dataframe\">\n",
       "  <thead>\n",
       "    <tr style=\"text-align: right;\">\n",
       "      <th></th>\n",
       "      <th>total_bill</th>\n",
       "      <th>tip</th>\n",
       "      <th>time</th>\n",
       "      <th>size</th>\n",
       "    </tr>\n",
       "  </thead>\n",
       "  <tbody>\n",
       "    <tr>\n",
       "      <th>total_bill</th>\n",
       "      <td>1.000000</td>\n",
       "      <td>0.595065</td>\n",
       "      <td>-0.171044</td>\n",
       "      <td>0.581462</td>\n",
       "    </tr>\n",
       "    <tr>\n",
       "      <th>tip</th>\n",
       "      <td>0.595065</td>\n",
       "      <td>1.000000</td>\n",
       "      <td>-0.096621</td>\n",
       "      <td>0.450306</td>\n",
       "    </tr>\n",
       "    <tr>\n",
       "      <th>time</th>\n",
       "      <td>-0.171044</td>\n",
       "      <td>-0.096621</td>\n",
       "      <td>1.000000</td>\n",
       "      <td>-0.111101</td>\n",
       "    </tr>\n",
       "    <tr>\n",
       "      <th>size</th>\n",
       "      <td>0.581462</td>\n",
       "      <td>0.450306</td>\n",
       "      <td>-0.111101</td>\n",
       "      <td>1.000000</td>\n",
       "    </tr>\n",
       "  </tbody>\n",
       "</table>\n",
       "</div>"
      ],
      "text/plain": [
       "            total_bill       tip      time      size\n",
       "total_bill    1.000000  0.595065 -0.171044  0.581462\n",
       "tip           0.595065  1.000000 -0.096621  0.450306\n",
       "time         -0.171044 -0.096621  1.000000 -0.111101\n",
       "size          0.581462  0.450306 -0.111101  1.000000"
      ]
     },
     "execution_count": 88,
     "metadata": {},
     "output_type": "execute_result"
    }
   ],
   "source": [
    "corelationes = df.corr(numeric_only = True)\n",
    "corelationes"
   ]
  },
  {
   "cell_type": "markdown",
   "id": "17cd243b-69af-4e87-a894-516f8aeaef3b",
   "metadata": {},
   "source": [
    "#### <font color = 'grey'> Training ML Models </font>"
   ]
  },
  {
   "cell_type": "code",
   "execution_count": 116,
   "id": "db71dc00-bfdf-4eb7-86ec-ee9bd9bd9b33",
   "metadata": {},
   "outputs": [],
   "source": [
    "x_train, x_test, y_train, y_test = train_test_split(X, Y, test_size = .25, random_state = 42)"
   ]
  },
  {
   "cell_type": "code",
   "execution_count": 117,
   "id": "66308071-0b12-420d-b73c-f52872de21f3",
   "metadata": {},
   "outputs": [
    {
     "data": {
      "text/html": [
       "<div>\n",
       "<style scoped>\n",
       "    .dataframe tbody tr th:only-of-type {\n",
       "        vertical-align: middle;\n",
       "    }\n",
       "\n",
       "    .dataframe tbody tr th {\n",
       "        vertical-align: top;\n",
       "    }\n",
       "\n",
       "    .dataframe thead th {\n",
       "        text-align: right;\n",
       "    }\n",
       "</style>\n",
       "<table border=\"1\" class=\"dataframe\">\n",
       "  <thead>\n",
       "    <tr style=\"text-align: right;\">\n",
       "      <th></th>\n",
       "      <th>total_bill</th>\n",
       "      <th>tip</th>\n",
       "      <th>sex</th>\n",
       "      <th>smoker</th>\n",
       "      <th>day</th>\n",
       "      <th>size</th>\n",
       "    </tr>\n",
       "  </thead>\n",
       "  <tbody>\n",
       "    <tr>\n",
       "      <th>107</th>\n",
       "      <td>25.21</td>\n",
       "      <td>4.29</td>\n",
       "      <td>Male</td>\n",
       "      <td>Yes</td>\n",
       "      <td>Sat</td>\n",
       "      <td>2</td>\n",
       "    </tr>\n",
       "    <tr>\n",
       "      <th>177</th>\n",
       "      <td>14.48</td>\n",
       "      <td>2.00</td>\n",
       "      <td>Male</td>\n",
       "      <td>Yes</td>\n",
       "      <td>Sun</td>\n",
       "      <td>2</td>\n",
       "    </tr>\n",
       "    <tr>\n",
       "      <th>176</th>\n",
       "      <td>17.89</td>\n",
       "      <td>2.00</td>\n",
       "      <td>Male</td>\n",
       "      <td>Yes</td>\n",
       "      <td>Sun</td>\n",
       "      <td>2</td>\n",
       "    </tr>\n",
       "    <tr>\n",
       "      <th>114</th>\n",
       "      <td>25.71</td>\n",
       "      <td>4.00</td>\n",
       "      <td>Female</td>\n",
       "      <td>No</td>\n",
       "      <td>Sun</td>\n",
       "      <td>3</td>\n",
       "    </tr>\n",
       "    <tr>\n",
       "      <th>230</th>\n",
       "      <td>24.01</td>\n",
       "      <td>2.00</td>\n",
       "      <td>Male</td>\n",
       "      <td>Yes</td>\n",
       "      <td>Sat</td>\n",
       "      <td>4</td>\n",
       "    </tr>\n",
       "    <tr>\n",
       "      <th>...</th>\n",
       "      <td>...</td>\n",
       "      <td>...</td>\n",
       "      <td>...</td>\n",
       "      <td>...</td>\n",
       "      <td>...</td>\n",
       "      <td>...</td>\n",
       "    </tr>\n",
       "    <tr>\n",
       "      <th>109</th>\n",
       "      <td>14.31</td>\n",
       "      <td>4.00</td>\n",
       "      <td>Female</td>\n",
       "      <td>Yes</td>\n",
       "      <td>Sat</td>\n",
       "      <td>2</td>\n",
       "    </tr>\n",
       "    <tr>\n",
       "      <th>14</th>\n",
       "      <td>14.83</td>\n",
       "      <td>3.02</td>\n",
       "      <td>Female</td>\n",
       "      <td>No</td>\n",
       "      <td>Sun</td>\n",
       "      <td>2</td>\n",
       "    </tr>\n",
       "    <tr>\n",
       "      <th>95</th>\n",
       "      <td>40.17</td>\n",
       "      <td>4.73</td>\n",
       "      <td>Male</td>\n",
       "      <td>Yes</td>\n",
       "      <td>Fri</td>\n",
       "      <td>4</td>\n",
       "    </tr>\n",
       "    <tr>\n",
       "      <th>185</th>\n",
       "      <td>20.69</td>\n",
       "      <td>5.00</td>\n",
       "      <td>Male</td>\n",
       "      <td>No</td>\n",
       "      <td>Sun</td>\n",
       "      <td>5</td>\n",
       "    </tr>\n",
       "    <tr>\n",
       "      <th>105</th>\n",
       "      <td>15.36</td>\n",
       "      <td>1.64</td>\n",
       "      <td>Male</td>\n",
       "      <td>Yes</td>\n",
       "      <td>Sat</td>\n",
       "      <td>2</td>\n",
       "    </tr>\n",
       "  </tbody>\n",
       "</table>\n",
       "<p>176 rows × 6 columns</p>\n",
       "</div>"
      ],
      "text/plain": [
       "     total_bill   tip     sex smoker  day  size\n",
       "107       25.21  4.29    Male    Yes  Sat     2\n",
       "177       14.48  2.00    Male    Yes  Sun     2\n",
       "176       17.89  2.00    Male    Yes  Sun     2\n",
       "114       25.71  4.00  Female     No  Sun     3\n",
       "230       24.01  2.00    Male    Yes  Sat     4\n",
       "..          ...   ...     ...    ...  ...   ...\n",
       "109       14.31  4.00  Female    Yes  Sat     2\n",
       "14        14.83  3.02  Female     No  Sun     2\n",
       "95        40.17  4.73    Male    Yes  Fri     4\n",
       "185       20.69  5.00    Male     No  Sun     5\n",
       "105       15.36  1.64    Male    Yes  Sat     2\n",
       "\n",
       "[176 rows x 6 columns]"
      ]
     },
     "execution_count": 117,
     "metadata": {},
     "output_type": "execute_result"
    }
   ],
   "source": [
    "x_train"
   ]
  },
  {
   "cell_type": "code",
   "execution_count": 118,
   "id": "845687d7-c7d1-484f-8750-3b96f7ef3da3",
   "metadata": {},
   "outputs": [],
   "source": [
    "numerical_cols = ['total_bill', 'tip', 'size']\n",
    "categorical_cols = ['sex', 'smoker', 'day']"
   ]
  },
  {
   "cell_type": "markdown",
   "id": "1419b4dc-f73b-4195-a32a-8feed22b145b",
   "metadata": {},
   "source": [
    "##### <font color = 'green' > Feature Engineering Automation </font>"
   ]
  },
  {
   "cell_type": "code",
   "execution_count": 119,
   "id": "f6a7c476-af6b-4aab-9f34-530b8ac039fa",
   "metadata": {},
   "outputs": [],
   "source": [
    "numerical_pipeline = Pipeline(\n",
    "    steps = [\n",
    "        ('imputer', SimpleImputer(strategy = 'mean')), \n",
    "        ('scaler', StandardScaler())])\n",
    "\n",
    "categorical_pipeline = Pipeline(\n",
    "    steps = [\n",
    "        ('imputer', SimpleImputer(strategy = 'most_frequent')), \n",
    "        ('onehotencoder', OneHotEncoder())])\n",
    "\n",
    "preprocessor = ColumnTransformer([\n",
    "    ('numerical_pipeline', numerical_pipeline, numerical_cols), \n",
    "    ('categorical_pipeline', categorical_pipeline, categorical_cols)\n",
    "])"
   ]
  },
  {
   "cell_type": "code",
   "execution_count": 120,
   "id": "12eb5bfc-0b4f-4555-8c96-0346d0abb7fb",
   "metadata": {},
   "outputs": [],
   "source": [
    "x_train = preprocessor.fit_transform(x_train)\n",
    "x_test = preprocessor.transform(x_test)"
   ]
  },
  {
   "cell_type": "code",
   "execution_count": 123,
   "id": "15043bd6-ecf7-4911-8a71-aeb2b9aa3a53",
   "metadata": {},
   "outputs": [],
   "source": [
    "models = {\n",
    "    'RandomForestClassifier' : RandomForestClassifier(), \n",
    "    'DecisionTreeClassifier' : DecisionTreeClassifier(), \n",
    "    'SVC' : SVC()\n",
    "}"
   ]
  },
  {
   "cell_type": "code",
   "execution_count": 138,
   "id": "b66c79c4-3f4d-42f1-9045-01532b1733f7",
   "metadata": {},
   "outputs": [],
   "source": [
    "def evaluate_model(x_train, x_test, y_train, y_test):\n",
    "    report = {}\n",
    "    \n",
    "    for i in range(len(models)):\n",
    "        model = list(models.values())[i]\n",
    "        \n",
    "        model.fit(x_train, y_train)\n",
    "        \n",
    "        y_pred = model.predict(x_test)\n",
    "        \n",
    "        model_score = accuracy_score(y_test, y_pred)\n",
    "        \n",
    "        report[list(models.keys())[i]] = model_score\n",
    "        \n",
    "    return report"
   ]
  },
  {
   "cell_type": "code",
   "execution_count": 139,
   "id": "f764cf5d-17a4-443c-b6dc-cc5250ee3fa8",
   "metadata": {},
   "outputs": [],
   "source": [
    "report = evaluate_model(x_train, x_test, y_train, y_test)"
   ]
  },
  {
   "cell_type": "code",
   "execution_count": 143,
   "id": "b17cf6d1-bda8-4719-a6b2-e5103482c563",
   "metadata": {},
   "outputs": [],
   "source": [
    "rfc = RandomForestClassifier()"
   ]
  },
  {
   "cell_type": "code",
   "execution_count": 144,
   "id": "2b89fa87-68be-419a-8734-fb438d1654d0",
   "metadata": {},
   "outputs": [],
   "source": [
    "rfc_params = { 'max_depth': [3, 5, 10, 20, None], \n",
    "              'n_estimators': [100, 200, 300], \n",
    "              'criterion': ['gini', 'entropy']}"
   ]
  },
  {
   "cell_type": "code",
   "execution_count": 150,
   "id": "2b388672-1f1d-4c86-afe5-94918e18ff64",
   "metadata": {},
   "outputs": [
    {
     "name": "stdout",
     "output_type": "stream",
     "text": [
      "Fitting 5 folds for each of 10 candidates, totalling 50 fits\n",
      "[CV] END ..criterion=entropy, max_depth=20, n_estimators=200; total time=   0.2s\n",
      "[CV] END ..criterion=entropy, max_depth=20, n_estimators=200; total time=   0.1s\n",
      "[CV] END ..criterion=entropy, max_depth=20, n_estimators=200; total time=   0.1s\n",
      "[CV] END ..criterion=entropy, max_depth=20, n_estimators=200; total time=   0.1s\n",
      "[CV] END ..criterion=entropy, max_depth=20, n_estimators=200; total time=   0.1s\n",
      "[CV] END .....criterion=gini, max_depth=10, n_estimators=200; total time=   0.1s\n",
      "[CV] END .....criterion=gini, max_depth=10, n_estimators=200; total time=   0.1s\n",
      "[CV] END .....criterion=gini, max_depth=10, n_estimators=200; total time=   0.1s\n",
      "[CV] END .....criterion=gini, max_depth=10, n_estimators=200; total time=   0.1s\n",
      "[CV] END .....criterion=gini, max_depth=10, n_estimators=200; total time=   0.1s\n",
      "[CV] END ......criterion=gini, max_depth=5, n_estimators=200; total time=   0.1s\n",
      "[CV] END ......criterion=gini, max_depth=5, n_estimators=200; total time=   0.1s\n",
      "[CV] END ......criterion=gini, max_depth=5, n_estimators=200; total time=   0.1s\n",
      "[CV] END ......criterion=gini, max_depth=5, n_estimators=200; total time=   0.1s\n",
      "[CV] END ......criterion=gini, max_depth=5, n_estimators=200; total time=   0.1s\n",
      "[CV] END criterion=entropy, max_depth=None, n_estimators=300; total time=   0.2s\n",
      "[CV] END criterion=entropy, max_depth=None, n_estimators=300; total time=   0.2s\n",
      "[CV] END criterion=entropy, max_depth=None, n_estimators=300; total time=   0.2s\n",
      "[CV] END criterion=entropy, max_depth=None, n_estimators=300; total time=   0.2s\n",
      "[CV] END criterion=entropy, max_depth=None, n_estimators=300; total time=   0.2s\n",
      "[CV] END ..criterion=entropy, max_depth=10, n_estimators=200; total time=   0.1s\n",
      "[CV] END ..criterion=entropy, max_depth=10, n_estimators=200; total time=   0.1s\n",
      "[CV] END ..criterion=entropy, max_depth=10, n_estimators=200; total time=   0.1s\n",
      "[CV] END ..criterion=entropy, max_depth=10, n_estimators=200; total time=   0.1s\n",
      "[CV] END ..criterion=entropy, max_depth=10, n_estimators=200; total time=   0.1s\n",
      "[CV] END ..criterion=entropy, max_depth=10, n_estimators=300; total time=   0.2s\n",
      "[CV] END ..criterion=entropy, max_depth=10, n_estimators=300; total time=   0.2s\n",
      "[CV] END ..criterion=entropy, max_depth=10, n_estimators=300; total time=   0.2s\n",
      "[CV] END ..criterion=entropy, max_depth=10, n_estimators=300; total time=   0.2s\n",
      "[CV] END ..criterion=entropy, max_depth=10, n_estimators=300; total time=   0.2s\n",
      "[CV] END ...criterion=entropy, max_depth=3, n_estimators=100; total time=   0.1s\n",
      "[CV] END ...criterion=entropy, max_depth=3, n_estimators=100; total time=   0.1s\n",
      "[CV] END ...criterion=entropy, max_depth=3, n_estimators=100; total time=   0.1s\n",
      "[CV] END ...criterion=entropy, max_depth=3, n_estimators=100; total time=   0.1s\n",
      "[CV] END ...criterion=entropy, max_depth=3, n_estimators=100; total time=   0.1s\n",
      "[CV] END ...criterion=entropy, max_depth=3, n_estimators=300; total time=   0.2s\n",
      "[CV] END ...criterion=entropy, max_depth=3, n_estimators=300; total time=   0.2s\n",
      "[CV] END ...criterion=entropy, max_depth=3, n_estimators=300; total time=   0.2s\n",
      "[CV] END ...criterion=entropy, max_depth=3, n_estimators=300; total time=   0.2s\n",
      "[CV] END ...criterion=entropy, max_depth=3, n_estimators=300; total time=   0.2s\n",
      "[CV] END .....criterion=gini, max_depth=20, n_estimators=200; total time=   0.1s\n",
      "[CV] END .....criterion=gini, max_depth=20, n_estimators=200; total time=   0.1s\n",
      "[CV] END .....criterion=gini, max_depth=20, n_estimators=200; total time=   0.1s\n",
      "[CV] END .....criterion=gini, max_depth=20, n_estimators=200; total time=   0.1s\n",
      "[CV] END .....criterion=gini, max_depth=20, n_estimators=200; total time=   0.1s\n",
      "[CV] END ...criterion=gini, max_depth=None, n_estimators=200; total time=   0.1s\n",
      "[CV] END ...criterion=gini, max_depth=None, n_estimators=200; total time=   0.1s\n",
      "[CV] END ...criterion=gini, max_depth=None, n_estimators=200; total time=   0.1s\n",
      "[CV] END ...criterion=gini, max_depth=None, n_estimators=200; total time=   0.1s\n",
      "[CV] END ...criterion=gini, max_depth=None, n_estimators=200; total time=   0.1s\n"
     ]
    },
    {
     "data": {
      "text/html": [
       "<style>#sk-container-id-7 {color: black;background-color: white;}#sk-container-id-7 pre{padding: 0;}#sk-container-id-7 div.sk-toggleable {background-color: white;}#sk-container-id-7 label.sk-toggleable__label {cursor: pointer;display: block;width: 100%;margin-bottom: 0;padding: 0.3em;box-sizing: border-box;text-align: center;}#sk-container-id-7 label.sk-toggleable__label-arrow:before {content: \"▸\";float: left;margin-right: 0.25em;color: #696969;}#sk-container-id-7 label.sk-toggleable__label-arrow:hover:before {color: black;}#sk-container-id-7 div.sk-estimator:hover label.sk-toggleable__label-arrow:before {color: black;}#sk-container-id-7 div.sk-toggleable__content {max-height: 0;max-width: 0;overflow: hidden;text-align: left;background-color: #f0f8ff;}#sk-container-id-7 div.sk-toggleable__content pre {margin: 0.2em;color: black;border-radius: 0.25em;background-color: #f0f8ff;}#sk-container-id-7 input.sk-toggleable__control:checked~div.sk-toggleable__content {max-height: 200px;max-width: 100%;overflow: auto;}#sk-container-id-7 input.sk-toggleable__control:checked~label.sk-toggleable__label-arrow:before {content: \"▾\";}#sk-container-id-7 div.sk-estimator input.sk-toggleable__control:checked~label.sk-toggleable__label {background-color: #d4ebff;}#sk-container-id-7 div.sk-label input.sk-toggleable__control:checked~label.sk-toggleable__label {background-color: #d4ebff;}#sk-container-id-7 input.sk-hidden--visually {border: 0;clip: rect(1px 1px 1px 1px);clip: rect(1px, 1px, 1px, 1px);height: 1px;margin: -1px;overflow: hidden;padding: 0;position: absolute;width: 1px;}#sk-container-id-7 div.sk-estimator {font-family: monospace;background-color: #f0f8ff;border: 1px dotted black;border-radius: 0.25em;box-sizing: border-box;margin-bottom: 0.5em;}#sk-container-id-7 div.sk-estimator:hover {background-color: #d4ebff;}#sk-container-id-7 div.sk-parallel-item::after {content: \"\";width: 100%;border-bottom: 1px solid gray;flex-grow: 1;}#sk-container-id-7 div.sk-label:hover label.sk-toggleable__label {background-color: #d4ebff;}#sk-container-id-7 div.sk-serial::before {content: \"\";position: absolute;border-left: 1px solid gray;box-sizing: border-box;top: 0;bottom: 0;left: 50%;z-index: 0;}#sk-container-id-7 div.sk-serial {display: flex;flex-direction: column;align-items: center;background-color: white;padding-right: 0.2em;padding-left: 0.2em;position: relative;}#sk-container-id-7 div.sk-item {position: relative;z-index: 1;}#sk-container-id-7 div.sk-parallel {display: flex;align-items: stretch;justify-content: center;background-color: white;position: relative;}#sk-container-id-7 div.sk-item::before, #sk-container-id-7 div.sk-parallel-item::before {content: \"\";position: absolute;border-left: 1px solid gray;box-sizing: border-box;top: 0;bottom: 0;left: 50%;z-index: -1;}#sk-container-id-7 div.sk-parallel-item {display: flex;flex-direction: column;z-index: 1;position: relative;background-color: white;}#sk-container-id-7 div.sk-parallel-item:first-child::after {align-self: flex-end;width: 50%;}#sk-container-id-7 div.sk-parallel-item:last-child::after {align-self: flex-start;width: 50%;}#sk-container-id-7 div.sk-parallel-item:only-child::after {width: 0;}#sk-container-id-7 div.sk-dashed-wrapped {border: 1px dashed gray;margin: 0 0.4em 0.5em 0.4em;box-sizing: border-box;padding-bottom: 0.4em;background-color: white;}#sk-container-id-7 div.sk-label label {font-family: monospace;font-weight: bold;display: inline-block;line-height: 1.2em;}#sk-container-id-7 div.sk-label-container {text-align: center;}#sk-container-id-7 div.sk-container {/* jupyter's `normalize.less` sets `[hidden] { display: none; }` but bootstrap.min.css set `[hidden] { display: none !important; }` so we also need the `!important` here to be able to override the default hidden behavior on the sphinx rendered scikit-learn.org. See: https://github.com/scikit-learn/scikit-learn/issues/21755 */display: inline-block !important;position: relative;}#sk-container-id-7 div.sk-text-repr-fallback {display: none;}</style><div id=\"sk-container-id-7\" class=\"sk-top-container\"><div class=\"sk-text-repr-fallback\"><pre>RandomizedSearchCV(estimator=RandomForestClassifier(),\n",
       "                   param_distributions={&#x27;criterion&#x27;: [&#x27;gini&#x27;, &#x27;entropy&#x27;],\n",
       "                                        &#x27;max_depth&#x27;: [3, 5, 10, 20, None],\n",
       "                                        &#x27;n_estimators&#x27;: [100, 200, 300]},\n",
       "                   scoring=&#x27;accuracy&#x27;, verbose=2)</pre><b>In a Jupyter environment, please rerun this cell to show the HTML representation or trust the notebook. <br />On GitHub, the HTML representation is unable to render, please try loading this page with nbviewer.org.</b></div><div class=\"sk-container\" hidden><div class=\"sk-item sk-dashed-wrapped\"><div class=\"sk-label-container\"><div class=\"sk-label sk-toggleable\"><input class=\"sk-toggleable__control sk-hidden--visually\" id=\"sk-estimator-id-23\" type=\"checkbox\" ><label for=\"sk-estimator-id-23\" class=\"sk-toggleable__label sk-toggleable__label-arrow\">RandomizedSearchCV</label><div class=\"sk-toggleable__content\"><pre>RandomizedSearchCV(estimator=RandomForestClassifier(),\n",
       "                   param_distributions={&#x27;criterion&#x27;: [&#x27;gini&#x27;, &#x27;entropy&#x27;],\n",
       "                                        &#x27;max_depth&#x27;: [3, 5, 10, 20, None],\n",
       "                                        &#x27;n_estimators&#x27;: [100, 200, 300]},\n",
       "                   scoring=&#x27;accuracy&#x27;, verbose=2)</pre></div></div></div><div class=\"sk-parallel\"><div class=\"sk-parallel-item\"><div class=\"sk-item\"><div class=\"sk-label-container\"><div class=\"sk-label sk-toggleable\"><input class=\"sk-toggleable__control sk-hidden--visually\" id=\"sk-estimator-id-24\" type=\"checkbox\" ><label for=\"sk-estimator-id-24\" class=\"sk-toggleable__label sk-toggleable__label-arrow\">estimator: RandomForestClassifier</label><div class=\"sk-toggleable__content\"><pre>RandomForestClassifier()</pre></div></div></div><div class=\"sk-serial\"><div class=\"sk-item\"><div class=\"sk-estimator sk-toggleable\"><input class=\"sk-toggleable__control sk-hidden--visually\" id=\"sk-estimator-id-25\" type=\"checkbox\" ><label for=\"sk-estimator-id-25\" class=\"sk-toggleable__label sk-toggleable__label-arrow\">RandomForestClassifier</label><div class=\"sk-toggleable__content\"><pre>RandomForestClassifier()</pre></div></div></div></div></div></div></div></div></div></div>"
      ],
      "text/plain": [
       "RandomizedSearchCV(estimator=RandomForestClassifier(),\n",
       "                   param_distributions={'criterion': ['gini', 'entropy'],\n",
       "                                        'max_depth': [3, 5, 10, 20, None],\n",
       "                                        'n_estimators': [100, 200, 300]},\n",
       "                   scoring='accuracy', verbose=2)"
      ]
     },
     "execution_count": 150,
     "metadata": {},
     "output_type": "execute_result"
    }
   ],
   "source": [
    "cf = RandomizedSearchCV(rfc, param_distributions = rfc_params, scoring = 'accuracy', verbose = 2)\n",
    "cf.fit(x_train, y_train)"
   ]
  },
  {
   "cell_type": "code",
   "execution_count": 151,
   "id": "ad9b03d3-0557-47b9-a421-382f26192526",
   "metadata": {},
   "outputs": [
    {
     "data": {
      "text/plain": [
       "{'n_estimators': 100, 'max_depth': 3, 'criterion': 'entropy'}"
      ]
     },
     "execution_count": 151,
     "metadata": {},
     "output_type": "execute_result"
    }
   ],
   "source": [
    "cf.best_params_"
   ]
  },
  {
   "cell_type": "code",
   "execution_count": 152,
   "id": "8c81d5e9-8e8f-4842-aa74-c7781027e728",
   "metadata": {},
   "outputs": [
    {
     "data": {
      "text/plain": [
       "1.0"
      ]
     },
     "execution_count": 152,
     "metadata": {},
     "output_type": "execute_result"
    }
   ],
   "source": [
    "ypred = cf.predict(x_test)\n",
    "\n",
    "accuracy = accuracy_score(y_test, ypred)\n",
    "accuracy"
   ]
  },
  {
   "cell_type": "code",
   "execution_count": 154,
   "id": "8039a515-07b1-4186-9555-0df895467ba7",
   "metadata": {},
   "outputs": [
    {
     "data": {
      "image/png": "[encoded data removed]",
      "text/plain": [
       "<Figure size 640x480 with 2 Axes>"
      ]
     },
     "metadata": {},
     "output_type": "display_data"
    }
   ],
   "source": [
    "cm = confusion_matrix(y_test, ypred)\n",
    "\n",
    "sbn.heatmap(cm, annot = True, cmap = 'Blues', fmt = 'g')\n",
    "plt.xlabel('Predicted')\n",
    "plt.ylabel('True')\n",
    "plt.title('Confusion Matrix')\n",
    "plt.show();"
   ]
  },
  {
   "cell_type": "code",
   "execution_count": null,
   "id": "d50ba83b-d107-4aa5-9793-8e5fca6f3ed7",
   "metadata": {},
   "outputs": [],
   "source": []
  }
 ],
 "metadata": {
  "kernelspec": {
   "display_name": "Python 3 (ipykernel)",
   "language": "python",
   "name": "python3"
  },
  "language_info": {
   "codemirror_mode": {
    "name": "ipython",
    "version": 3
   },
   "file_extension": ".py",
   "mimetype": "text/x-python",
   "name": "python",
   "nbconvert_exporter": "python",
   "pygments_lexer": "ipython3",
   "version": "3.8.15"
  }
 },
 "nbformat": 4,
 "nbformat_minor": 5
}
