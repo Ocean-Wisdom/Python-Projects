{
 "cells": [
  {
   "cell_type": "code",
   "execution_count": 30,
   "id": "1474e283-eace-486c-9512-abd09222b00b",
   "metadata": {},
   "outputs": [],
   "source": [
    "import numpy as np\n",
    "from sklearn.tree import DecisionTreeClassifier \n",
    "from sklearn import datasets\n",
    "from sklearn.model_selection import train_test_split\n",
    "from sklearn.metrics import accuracy_score"
   ]
  },
  {
   "cell_type": "markdown",
   "id": "fe000e08-f6b9-4a23-8315-6cd92d4bb97e",
   "metadata": {},
   "source": [
    "### <font color = 'black'> Dummy example Iris Data and RFC </font>"
   ]
  },
  {
   "cell_type": "markdown",
   "id": "91edb968-5d79-4a35-a953-47176e2db645",
   "metadata": {},
   "source": [
    "<font color = 'grey'> Get data and split it </font>"
   ]
  },
  {
   "cell_type": "code",
   "execution_count": 7,
   "id": "6fe37d68-327e-4379-a06b-e9baeb018617",
   "metadata": {},
   "outputs": [],
   "source": [
    "iris = datasets.load_iris()"
   ]
  },
  {
   "cell_type": "code",
   "execution_count": 10,
   "id": "fac1bfa0-4b42-429e-ac88-6282d6611602",
   "metadata": {},
   "outputs": [],
   "source": [
    "X = iris.data\n",
    "Y = iris.target"
   ]
  },
  {
   "cell_type": "code",
   "execution_count": 14,
   "id": "e3e702ea-9d2e-4513-9175-fc9c2d24349f",
   "metadata": {},
   "outputs": [],
   "source": [
    "x_train, x_test, y_train, y_test = train_test_split(X, Y, test_size = .3, random_state = 42)"
   ]
  },
  {
   "cell_type": "markdown",
   "id": "079a3e5a-25e5-4f06-ae63-dc5172b6f4fb",
   "metadata": {},
   "source": [
    "##### <font color = 'grey'> Build RFC with sklearn </font>"
   ]
  },
  {
   "cell_type": "code",
   "execution_count": 27,
   "id": "d2116c7f-c3c0-477e-993c-c8fce1d601e0",
   "metadata": {},
   "outputs": [],
   "source": [
    "\n",
    "\n",
    "class RandomForest:\n",
    "    def __init__(self, n_estimators=100, max_depth=None, max_features='sqrt', random_state=None):\n",
    "        self.n_estimators = n_estimators\n",
    "        self.max_depth = max_depth\n",
    "        self.max_features = max_features\n",
    "        self.random_state = random_state\n",
    "        self.estimators = []\n",
    "\n",
    "    def fit(self, X, y):\n",
    "        np.random.seed(self.random_state)\n",
    "        self.estimators = []\n",
    "        for _ in range(self.n_estimators):\n",
    "            # Bootstrap sample\n",
    "            indices = np.random.choice(range(X.shape[0]), size=X.shape[0], replace=True)\n",
    "            X_sample = X[indices]\n",
    "            y_sample = y[indices]\n",
    "            \n",
    "            # Create and fit decision tree\n",
    "            tree = DecisionTreeClassifier(max_depth=self.max_depth, max_features=self.max_features)\n",
    "            tree.fit(X_sample, y_sample)\n",
    "            \n",
    "            self.estimators.append(tree)\n",
    "            \n",
    "    def predict(self, X):\n",
    "        predictions = np.zeros((len(X), len(self.estimators)))\n",
    "        for i, estimator in enumerate(self.estimators):\n",
    "            predictions[:, i] = estimator.predict(X)\n",
    "    \n",
    "        return np.apply_along_axis(lambda x: np.bincount(x.astype(int)).argmax(), axis=1, arr=predictions)\n",
    "\n",
    "\n",
    "\n",
    "\n",
    "\n",
    "\n",
    "  \n",
    "                               "
   ]
  },
  {
   "cell_type": "code",
   "execution_count": 33,
   "id": "8b1aba5a-28a4-4cd2-a6f1-045523f68239",
   "metadata": {},
   "outputs": [],
   "source": [
    "rf = RandomForest(n_estimators=100, max_depth=5, max_features='sqrt', random_state=42)\n",
    "\n",
    "# Fit the Random Forest on training data\n",
    "rf.fit(x_train, y_train)\n",
    "\n",
    "# Make predictions on test data\n",
    "y_pred = rf.predict(x_test)"
   ]
  },
  {
   "cell_type": "code",
   "execution_count": 34,
   "id": "ff701ac7-da91-4376-b3dd-b81894fe9e8b",
   "metadata": {},
   "outputs": [
    {
     "data": {
      "text/plain": [
       "1.0"
      ]
     },
     "execution_count": 34,
     "metadata": {},
     "output_type": "execute_result"
    }
   ],
   "source": [
    "acc = accuracy_score(y_test, y_pred)\n",
    "acc"
   ]
  },
  {
   "cell_type": "code",
   "execution_count": null,
   "id": "9f3e942b-e381-4d76-b669-30a90d3443ce",
   "metadata": {},
   "outputs": [],
   "source": []
  }
 ],
 "metadata": {
  "kernelspec": {
   "display_name": "Python 3 (ipykernel)",
   "language": "python",
   "name": "python3"
  },
  "language_info": {
   "codemirror_mode": {
    "name": "ipython",
    "version": 3
   },
   "file_extension": ".py",
   "mimetype": "text/x-python",
   "name": "python",
   "nbconvert_exporter": "python",
   "pygments_lexer": "ipython3",
   "version": "3.8.15"
  }
 },
 "nbformat": 4,
 "nbformat_minor": 5
}
