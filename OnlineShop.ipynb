{
 "cells": [
  {
   "cell_type": "code",
   "execution_count": 1,
   "id": "2532335d-2b0b-4893-9897-a2b13acb0959",
   "metadata": {},
   "outputs": [],
   "source": [
    "import random"
   ]
  },
  {
   "cell_type": "code",
   "execution_count": 16,
   "id": "9189056c-1606-4f22-8ca9-d8a1208ae634",
   "metadata": {},
   "outputs": [],
   "source": [
    "### class for the products: every product has a name, a short description and a price. \n",
    "\n",
    "class Product:\n",
    "    def __init__(self, name, description, price):\n",
    "        \n",
    "        self.name = name\n",
    "        self.description = description\n",
    "        self.price = price \n",
    "        \n",
    "    def __str__(self):\n",
    "        return f\"The product {self.name} has {self.description} and the price is {self.price}\""
   ]
  },
  {
   "cell_type": "code",
   "execution_count": 17,
   "id": "c5e7bd96-d59e-4e71-8497-c9386a6c49b7",
   "metadata": {},
   "outputs": [],
   "source": [
    "### adding the product and the # of products in the cart. self.product.price refferes to the product itself, which has a name, description and price\n",
    "\n",
    "class CartItem: \n",
    "    def __init__(self, product, quantity):\n",
    "        self.product = product\n",
    "        self.quantity = quantity\n",
    "        \n",
    "    def get_total(self):\n",
    "        return self.product.price * self.quantity\n",
    "    \n",
    "    def __str__(self):\n",
    "        return f\"{self.product} * {self.quantity}\"\n",
    "    \n",
    "class Cart:\n",
    "    def __init__(self):\n",
    "        self.items = []\n",
    "        \n",
    "    def add_item(self, product, quantity):\n",
    "        item = CartItem(product, quantity)\n",
    "        self.items.append(item)\n",
    "    \n",
    "    def remove_item(self, item):\n",
    "        self.items.remove(item)\n",
    "    \n",
    "    def get_total(self):\n",
    "        suma = 0\n",
    "        for item in self.items:\n",
    "            suma += item.get_total()\n",
    "        return suma\n",
    "    \n",
    "    def get_items(self):\n",
    "        return self.items\n",
    "    \n",
    "    def __str__(self):\n",
    "        return \"\\n\".join(str(item) for item in self.items)"
   ]
  },
  {
   "cell_type": "code",
   "execution_count": 43,
   "id": "ae5f5db9-9e8f-4a49-85ed-7e8577c12d3c",
   "metadata": {},
   "outputs": [],
   "source": [
    "class User:\n",
    "    def __init__(self, name, email):\n",
    "        self.name = name\n",
    "        self.email = email\n",
    "        self.cart = Cart()\n",
    "        \n",
    "    def add_to_cart(self, product, quantity):\n",
    "        self.cart.add_item(product, quantity)\n",
    "        \n",
    "    def remove_from_cart(self, item):\n",
    "        self.cart.remove_item(item)\n",
    "        \n",
    "    def get_cart(self):\n",
    "        return self.cart\n",
    "    \n",
    "    def __str__(self):\n",
    "        return f\"User name: {self.name}: (email: {self.email} \\nCart:\\n{self.cart})\"\n",
    "    \n",
    "    "
   ]
  },
  {
   "cell_type": "code",
   "execution_count": 44,
   "id": "770dc9a3-c502-45b4-b6c5-0111b56d24db",
   "metadata": {},
   "outputs": [],
   "source": [
    "class Store:\n",
    "    def __init__(self):\n",
    "        self.products = []\n",
    "        self.users = []\n",
    "        \n",
    "    def add_product(self, product):\n",
    "        self.products.append(product)\n",
    "        \n",
    "    def add_user(self, user):\n",
    "        self.users.append(user)\n",
    "        \n",
    "    def __str__(self):\n",
    "        return f\"Store with {len(self.products)} products and {len(self.users)} users!\""
   ]
  },
  {
   "cell_type": "code",
   "execution_count": 45,
   "id": "9a3b0ca8-6292-4db7-ad9b-5532b53845be",
   "metadata": {},
   "outputs": [],
   "source": [
    "### create some products\n",
    "\n",
    "p1 = Product(\"Pizza\", \"Salami Pizza from Del Piero\", 12.75)\n",
    "p2 = Product(name = \"Ananas\", description = \"Tropical fruit\", price = 5.54)\n",
    "p3 = Product(name = \"Carpet\", description = \"Red or Black Carpet from Balenciaga\", price = 54.23)\n",
    "p4 = Product(name = \"Muffins\", description = \"Sweets made in our own bakery\", price = 3.3)\n",
    "p5 = Product(name = \"Rotopercutorus\", description = \"Gardening tool for deepening everything you want\", price = 345.23)"
   ]
  },
  {
   "cell_type": "markdown",
   "id": "2738c078-ee72-4b29-8e66-8d38f07d98f1",
   "metadata": {},
   "source": [
    "Adding products to the store:\n"
   ]
  },
  {
   "cell_type": "code",
   "execution_count": 46,
   "id": "cfd7408a-4417-4fde-8c2d-ad116f492284",
   "metadata": {},
   "outputs": [],
   "source": [
    "###create the store and adding some products to it\n",
    "store = Store()\n",
    "for i in [p1, p2, p3, p4, p5]:\n",
    "    store.add_product(i)"
   ]
  },
  {
   "cell_type": "code",
   "execution_count": 47,
   "id": "a11d825f-3653-41d7-91e3-071ac0252442",
   "metadata": {},
   "outputs": [],
   "source": [
    "### create some users\n",
    "u1 = User(name = \"Alice\", email = \"alicethestrong@hotmail.com\")\n",
    "u2 = User(\"Bobby\", email = \"bobs@yahoo.com\")\n",
    "u3 = User(\"Mirinda\", email = \"miriasd@gmail.com\")\n",
    "u4 = User(\"Zack\", email = \"figaromotanu@gmail.com\")\n",
    "u5 = User(\"Zoe\", email = \"matancur@yahoo.com\")"
   ]
  },
  {
   "cell_type": "code",
   "execution_count": 48,
   "id": "786e9f06-a5b2-41ec-9de4-2503f4b200c2",
   "metadata": {},
   "outputs": [],
   "source": [
    "#### add the users to the store:\n",
    "\n",
    "for i in [u1, u2, u3, u4, u5]:\n",
    "    store.add_user(i)"
   ]
  },
  {
   "cell_type": "code",
   "execution_count": 49,
   "id": "e4431f73-b4ca-4a7d-81c7-4fdf42012f6e",
   "metadata": {},
   "outputs": [],
   "source": [
    "### adding some products to their carts\n",
    "u1.add_to_cart(p1, 23)\n",
    "u1.add_to_cart(p2, 45)\n",
    "u2.add_to_cart(p3, 3)\n",
    "u2.add_to_cart(p5, 2)\n",
    "u3.add_to_cart(p1, 22)\n",
    "u5.add_to_cart(p5, 23)"
   ]
  },
  {
   "cell_type": "code",
   "execution_count": 50,
   "id": "3d317432-17d4-4e67-9ea0-8139c265e093",
   "metadata": {},
   "outputs": [],
   "source": [
    "cartu1 = u1.get_cart().get_items()\n",
    "cartu2 = u2.get_cart().get_items()\n",
    "\n",
    "u2.remove_from_cart(cartu2[0])"
   ]
  },
  {
   "cell_type": "code",
   "execution_count": 57,
   "id": "41a4ad3f-a89e-4e96-980b-f51ee0ccf29c",
   "metadata": {},
   "outputs": [
    {
     "name": "stdout",
     "output_type": "stream",
     "text": [
      "User 2  has a total of  690.46\n"
     ]
    }
   ],
   "source": [
    "total = u2.get_cart().get_total()\n",
    "print( \"User 2  has a total of \", total)"
   ]
  },
  {
   "cell_type": "code",
   "execution_count": null,
   "id": "56938ab3-0501-4446-8645-e7ccccf50abb",
   "metadata": {},
   "outputs": [],
   "source": []
  },
  {
   "cell_type": "code",
   "execution_count": null,
   "id": "0c722c8f-bc1d-40a0-8157-a48a8575c189",
   "metadata": {},
   "outputs": [],
   "source": []
  }
 ],
 "metadata": {
  "kernelspec": {
   "display_name": "Python 3 (ipykernel)",
   "language": "python",
   "name": "python3"
  },
  "language_info": {
   "codemirror_mode": {
    "name": "ipython",
    "version": 3
   },
   "file_extension": ".py",
   "mimetype": "text/x-python",
   "name": "python",
   "nbconvert_exporter": "python",
   "pygments_lexer": "ipython3",
   "version": "3.8.15"
  }
 },
 "nbformat": 4,
 "nbformat_minor": 5
}
